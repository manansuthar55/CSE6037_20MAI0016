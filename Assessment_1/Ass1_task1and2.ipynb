{
  "nbformat": 4,
  "nbformat_minor": 0,
  "metadata": {
    "colab": {
      "name": "DLAssessment_1.ipynb",
      "provenance": [],
      "collapsed_sections": []
    },
    "kernelspec": {
      "name": "python3",
      "display_name": "Python 3"
    }
  },
  "cells": [
    {
      "cell_type": "markdown",
      "metadata": {
        "id": "OgCpxIL91aJL"
      },
      "source": [
        "#**VIT-Vellore SCOPE**\r\n",
        "---\r\n",
        "##**CSE6037 - Deep Learning and its Applications**\r\n",
        "---\r\n",
        "###**SUTHAR MANAN BHARATKUMAR 20MAI0016**\r\n",
        "###Assessment 1\r\n",
        "\r\n",
        "https://github.com/manansuthar55/CSE6037_20MAI0016_Assessment_1"
      ]
    },
    {
      "cell_type": "markdown",
      "metadata": {
        "id": "qEDEv1uLy3uu"
      },
      "source": [
        "## **Problem 1**\r\n",
        "*Train a single preceptron to take multiple inputs and predict binary output by learning the weigts and biases form the training data.*"
      ]
    },
    {
      "cell_type": "code",
      "metadata": {
        "colab": {
          "base_uri": "https://localhost:8080/"
        },
        "id": "C4VoDcFYbHBf",
        "outputId": "36fe53a3-94cd-4247-f031-34ca13e04c81"
      },
      "source": [
        "# Make a prediction with weights\r\n",
        "def predict(row, weights):\r\n",
        "\tactivation = weights[0]\r\n",
        "\tfor i in range(len(row)-1):\r\n",
        "\t\tactivation += weights[i + 1] * row[i]\r\n",
        "\treturn 1.0 if activation >= 0.0 else 0.0\r\n",
        "\r\n",
        "# Learning Perceptron weights and bias using Stochastic Gradient Descent\r\n",
        "def learning_parameters(train, l_rate, n_epoch):\r\n",
        "\tweights = [0.0 for i in range(len(train[0]))]\r\n",
        "\tfor epoch in range(n_epoch):\r\n",
        "\t\tsum_error = 0.0\r\n",
        "\t\tfor row in train:\r\n",
        "\t\t\tprediction = predict(row, weights)\r\n",
        "\t\t\terror = row[-1] - prediction\r\n",
        "\t\t\tsum_error += error**2\r\n",
        "\t\t\tweights[0] = weights[0] + l_rate * error\r\n",
        "\t\t\tfor i in range(len(row)-1):\r\n",
        "\t\t\t\tweights[i + 1] = weights[i + 1] + l_rate * error * row[i]\r\n",
        "\t\tprint('Epoch = %d, Sum^2_Error = %.2f' % (epoch+1, sum_error))\r\n",
        "\treturn weights\r\n",
        "\r\n",
        "# Input Samples\r\n",
        "dataset = [[1,2,3,0],\r\n",
        "\t[4,5,6,1],\r\n",
        "\t[7,8,9,1]]\r\n",
        "test=[4,7,8]\r\n",
        "l_rate = 0.1    #Learning rate or Bias\r\n",
        "n_epoch = 10    #Number of iterations for training the dataset\r\n",
        "weights = learning_parameters(dataset, l_rate, n_epoch)\r\n",
        "print(\"Learned weights :\", weights)\r\n",
        "print(\"Predicted output for the test sample is \", predict(test, weights))"
      ],
      "execution_count": 1,
      "outputs": [
        {
          "output_type": "stream",
          "text": [
            "Epoch = 1, Sum^2_Error = 2.00\n",
            "Epoch = 2, Sum^2_Error = 1.00\n",
            "Epoch = 3, Sum^2_Error = 2.00\n",
            "Epoch = 4, Sum^2_Error = 1.00\n",
            "Epoch = 5, Sum^2_Error = 2.00\n",
            "Epoch = 6, Sum^2_Error = 1.00\n",
            "Epoch = 7, Sum^2_Error = 1.00\n",
            "Epoch = 8, Sum^2_Error = 0.00\n",
            "Epoch = 9, Sum^2_Error = 0.00\n",
            "Epoch = 10, Sum^2_Error = 0.00\n",
            "Learned weights : [-0.4, 0.5000000000000001, 0.09999999999999992, -0.30000000000000004]\n",
            "Predicted output for the test sample is  1.0\n"
          ],
          "name": "stdout"
        }
      ]
    },
    {
      "cell_type": "markdown",
      "metadata": {
        "id": "rQcPOAnv0oVv"
      },
      "source": [
        "## **Problem 2**\r\n",
        "*Use MLP Classifier algorithm on a classification dataset.\r\n",
        "Show the score, accuracy and confusion matrix of test samples.* "
      ]
    },
    {
      "cell_type": "code",
      "metadata": {
        "id": "2F-SQA_uxLgR"
      },
      "source": [
        "import pandas as pd\r\n",
        "from sklearn.neural_network import MLPClassifier\r\n",
        "from sklearn.model_selection import train_test_split\r\n",
        "from sklearn.metrics import confusion_matrix\r\n",
        "from sklearn.metrics import accuracy_score\r\n",
        "\r\n",
        "#Dataset fetched directly form UCI repository.\r\n",
        "path=\"https://archive.ics.uci.edu/ml/machine-learning-databases/00429/Cryotherapy.xlsx\"\r\n",
        "df=pd.read_excel(path)"
      ],
      "execution_count": 2,
      "outputs": []
    },
    {
      "cell_type": "markdown",
      "metadata": {
        "id": "qI1ckEXhr3OR"
      },
      "source": [
        "* Here, we will be classifying whether the result of the cryotherapy treatment was a success on a patient or not. We have a detailed info of the patient for better future predictions."
      ]
    },
    {
      "cell_type": "code",
      "metadata": {
        "colab": {
          "base_uri": "https://localhost:8080/",
          "height": 204
        },
        "id": "HlFjkMFLqQHB",
        "outputId": "cbb52ee5-bf99-42ae-850c-4a8ec152abe5"
      },
      "source": [
        "df.head()"
      ],
      "execution_count": 3,
      "outputs": [
        {
          "output_type": "execute_result",
          "data": {
            "text/html": [
              "<div>\n",
              "<style scoped>\n",
              "    .dataframe tbody tr th:only-of-type {\n",
              "        vertical-align: middle;\n",
              "    }\n",
              "\n",
              "    .dataframe tbody tr th {\n",
              "        vertical-align: top;\n",
              "    }\n",
              "\n",
              "    .dataframe thead th {\n",
              "        text-align: right;\n",
              "    }\n",
              "</style>\n",
              "<table border=\"1\" class=\"dataframe\">\n",
              "  <thead>\n",
              "    <tr style=\"text-align: right;\">\n",
              "      <th></th>\n",
              "      <th>sex</th>\n",
              "      <th>age</th>\n",
              "      <th>Time</th>\n",
              "      <th>Number_of_Warts</th>\n",
              "      <th>Type</th>\n",
              "      <th>Area</th>\n",
              "      <th>Result_of_Treatment</th>\n",
              "    </tr>\n",
              "  </thead>\n",
              "  <tbody>\n",
              "    <tr>\n",
              "      <th>0</th>\n",
              "      <td>1</td>\n",
              "      <td>35</td>\n",
              "      <td>12.00</td>\n",
              "      <td>5</td>\n",
              "      <td>1</td>\n",
              "      <td>100</td>\n",
              "      <td>0</td>\n",
              "    </tr>\n",
              "    <tr>\n",
              "      <th>1</th>\n",
              "      <td>1</td>\n",
              "      <td>29</td>\n",
              "      <td>7.00</td>\n",
              "      <td>5</td>\n",
              "      <td>1</td>\n",
              "      <td>96</td>\n",
              "      <td>1</td>\n",
              "    </tr>\n",
              "    <tr>\n",
              "      <th>2</th>\n",
              "      <td>1</td>\n",
              "      <td>50</td>\n",
              "      <td>8.00</td>\n",
              "      <td>1</td>\n",
              "      <td>3</td>\n",
              "      <td>132</td>\n",
              "      <td>0</td>\n",
              "    </tr>\n",
              "    <tr>\n",
              "      <th>3</th>\n",
              "      <td>1</td>\n",
              "      <td>32</td>\n",
              "      <td>11.75</td>\n",
              "      <td>7</td>\n",
              "      <td>3</td>\n",
              "      <td>750</td>\n",
              "      <td>0</td>\n",
              "    </tr>\n",
              "    <tr>\n",
              "      <th>4</th>\n",
              "      <td>1</td>\n",
              "      <td>67</td>\n",
              "      <td>9.25</td>\n",
              "      <td>1</td>\n",
              "      <td>1</td>\n",
              "      <td>42</td>\n",
              "      <td>0</td>\n",
              "    </tr>\n",
              "  </tbody>\n",
              "</table>\n",
              "</div>"
            ],
            "text/plain": [
              "   sex  age   Time  Number_of_Warts  Type  Area  Result_of_Treatment\n",
              "0    1   35  12.00                5     1   100                    0\n",
              "1    1   29   7.00                5     1    96                    1\n",
              "2    1   50   8.00                1     3   132                    0\n",
              "3    1   32  11.75                7     3   750                    0\n",
              "4    1   67   9.25                1     1    42                    0"
            ]
          },
          "metadata": {
            "tags": []
          },
          "execution_count": 3
        }
      ]
    },
    {
      "cell_type": "markdown",
      "metadata": {
        "id": "eOU1VJvrrW_Y"
      },
      "source": [
        "* Preparing the sperate input dataframe and output vector. Also, splitting the training and testing data keeping 30% data for testing and rest for training."
      ]
    },
    {
      "cell_type": "code",
      "metadata": {
        "id": "0A2B0jU8qrRN"
      },
      "source": [
        "X=df.drop('Result_of_Treatment', axis=1)\r\n",
        "y=df['Result_of_Treatment']\r\n",
        "X_train, X_test, y_train, y_test = train_test_split(X, y, test_size=0.30, stratify=y, random_state=42, shuffle=True)"
      ],
      "execution_count": 4,
      "outputs": []
    },
    {
      "cell_type": "markdown",
      "metadata": {
        "id": "yd6gWBrashFL"
      },
      "source": [
        "* Now, we will you the inbuilt function MLPClassifier i.e. the Multilayer Perceptron Classifier for the classification problem. \r\n",
        "* We measure the classifier's accuracy by score of the trained model, the confusion matrix of teh test data on the trained model and the accuracy_score of the test sample."
      ]
    },
    {
      "cell_type": "code",
      "metadata": {
        "colab": {
          "base_uri": "https://localhost:8080/"
        },
        "id": "6cBVzKroqUWJ",
        "outputId": "294dc3b6-06d6-423e-c802-53eb49b5385a"
      },
      "source": [
        "#Inbult function used for MLP classifier.\r\n",
        "clf = MLPClassifier(random_state=42, max_iter=300).fit(X_train, y_train)\r\n",
        "sc=clf.score(X_test, y_test)\r\n",
        "print(\"Score : {:.2f}%\".format(sc*100))\r\n",
        "y_pred = clf.predict(X_test)\r\n",
        "cm = confusion_matrix(y_pred, y_test)\r\n",
        "print(\"Confussion Matrix of the predicted samples using test data:\\n\",cm)\r\n",
        "ass=accuracy_score(y_test, y_pred, normalize=False)\r\n",
        "print(\"Accuracy of MLPClassifier from test samples:\", ass)"
      ],
      "execution_count": 5,
      "outputs": [
        {
          "output_type": "stream",
          "text": [
            "Score : 92.59%\n",
            "Confussion Matrix of the predicted samples using test data:\n",
            " [[13  2]\n",
            " [ 0 12]]\n",
            "Accuracy of MLPClassifier from test samples: 25\n"
          ],
          "name": "stdout"
        },
        {
          "output_type": "stream",
          "text": [
            "/usr/local/lib/python3.7/dist-packages/sklearn/neural_network/_multilayer_perceptron.py:571: ConvergenceWarning: Stochastic Optimizer: Maximum iterations (300) reached and the optimization hasn't converged yet.\n",
            "  % self.max_iter, ConvergenceWarning)\n"
          ],
          "name": "stderr"
        }
      ]
    }
  ]
}